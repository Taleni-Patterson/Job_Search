{
 "cells": [
  {
   "cell_type": "code",
   "execution_count": 1,
   "metadata": {},
   "outputs": [],
   "source": [
    "import re\n",
    "import requests\n",
    "from bs4 import BeautifulSoup\n",
    "import pandas as pd"
   ]
  },
  {
   "cell_type": "code",
   "execution_count": 2,
   "metadata": {},
   "outputs": [],
   "source": [
    "# Site dictionary\n",
    "d = {\n",
    "    \"indeed\" : {\"site\":\"http://au.indeed.com/jobs?q=TERM&l=LOCATION&start=PAGE\",\n",
    "                \"replacements\" : [\"SEP\",\"TERM\",\"PAGE\", \"LOCATION\"],\n",
    "                \"SEP\" :\"+\",\n",
    "                \"PAGE_ITERATOR\" : 10,\n",
    "                \"LOCATION\": \"Sydney+NSW\",\n",
    "                \"DOMAIN\":\"http://au.indeed.com\",\n",
    "                \"FULL_TEXT\",\n",
    "                \"TITLE\"}\n",
    "\n",
    "}\n",
    "site = \"au.indeed.com\"\n",
    "term = \"analyst\""
   ]
  },
  {
   "cell_type": "code",
   "execution_count": 8,
   "metadata": {},
   "outputs": [],
   "source": [
    "jobs = pd.DataFrame()\n",
    "# jobs.columns = ['date_accessed','site','search_term','job_title','link','full_text']"
   ]
  },
  {
   "cell_type": "code",
   "execution_count": 15,
   "metadata": {},
   "outputs": [
    {
     "name": "stdout",
     "output_type": "stream",
     "text": [
      "<div class=\"jobsearch-jobDescriptionText\" id=\"jobDescriptionText\"><p><b>The Opportunity</b></p><p>We have an exciting opportunity for an exceptional Financial Planning &amp; Analysis Analyst to join our team. Cubane is a specialist global consulting firm that delivers strategic analysis, benchmarking and insights to Executive Teams in the Australian, New Zealand, UK and Canadian university sectors. Founded in Australia a decade ago, many top research and teaching universities are members of our unique UniForum benchmarking programme.</p><p>In this role you will be reporting to the Group Managing Director and working closely with the Finance and Human Resources team to provide high quality strategic and commercial support to the business. This will involve developing and embedding standardised processes to manage forecasting, reporting and financial analysis and delivering robust business insights and recommendations to support current business operations and growth.</p><p><b>Our Offer to You</b></p><ul><li>Be part of a rapidly growing business with many opportunities for variety of work and learning</li><li>Develop your analytical and internal client relationship management skills</li><li>On-the-job learning with a strong local and international support system and many opportunities to work independently and take ownership of tasks;</li><li>Involved in decision making processes, bringing fresh motivation and insights to the challenges we face;</li><li>Work alongside experienced senior employees and reporting directly to the Managing Director with many opportunities for mentorship</li><li>Make a tangible difference in an essential, interesting and very current sector</li><li>A culture that genuinely supports flexibility and work-life balance</li></ul><p><b>The Role</b></p><p>This role is full-time, based in Cubane’s North Sydney office. You will be responsible for:</p><p>Finance</p><ul><li>Financial modelling including budgeting and rolling forecasting models</li><li>Revenue performance, sales pipeline and gap reporting</li><li>Assisting with annual budget preparation in conjunction with the Finance Manager and Executive Committee</li><li>Supporting the timely and accurate preparation of monthly group reporting packs</li><li>Preparing internal reports for executive leadership to support decision making</li><li>Developing qualitative and quantitative analysis of all operational aspects of the company to evaluate progress towards goals</li></ul><p>Business Development</p><ul><li>Researching and proactively driving communication of performance opportunities with stakeholders to deliver strong, industry leading solutions</li><li>Administration of the business’ CRM system (Salesforce), including liaising with the Regional Managing Directors to import, update and export data and report to key stakeholders</li><li>Supporting new client deal analysis and contract negotiations.</li><li>Providing commercial support to the Business Unit in the contract renewal process including financial analysis, tender assessment and provision of supporting data for relevant approval documents.</li></ul><p>Human Resources</p><ul><li>Working with the Human Resources Manager and management team to accurately maintain the staffing pipeline, including forecasting resourcing requirements.</li></ul><p><b>About You</b></p><ul><li>Strong reporting and analytical skills combined with commercial acumen</li><li>Advanced Excel skills with experience building financial models from scratch</li><li>Flexibility, resilience and the ability to work in a fast-paced environment</li><li>Strong work ethic and desire to help drive efficiencies and improvements in reporting and analysis</li><li>Technically minded and detail focussed individual</li><li>Ability to develop strong relationships, partner with the business and influence internal stakeholders, holding managers accountable to processes and deliverables</li><li>Able to concisely communicate financial information to a broad audience</li></ul><p><b>Qualifications and Experience</b></p><ul><li>Degree qualified (Finance, Commerce, Business)</li><li>3+ years’ post graduate experience with emphasis on planning, budgeting, analysis, performance evaluation, and forecasting</li><li>Previous hands on experience developing complex financial models for planning purposes essential</li><li>CPA or CA qualification an advantage</li><li>Experience supporting management with Business Development opportunities. Knowledge of CRMs, including Salesforce, a plus</li><li>Experience with reviewing and negotiating contracts an advantage</li></ul><p>Cover letter required. In your cover letter please include an example of how your analysis has successfully informed a business decision to improve business operations or business growth.</p><p>Please note only shortlisted candidates will be contacted.</p><p>Recruiters, please don't contact this job poster.</p><p>Job Type: Full-time</p><p>Experience:</p><ul><li>Financial Planning &amp; Analysis: 3 years (Required)</li></ul><p>Work Eligibility:</p><ul><li>The candidate can work permanently with no restriction on hours (Required)</li></ul></div>\n"
     ]
    }
   ],
   "source": [
    "for s in d.keys():\n",
    "    if s in site:\n",
    "        page = 0\n",
    "        site_dict = d[s]\n",
    "        site_dict[\"TERM\"] = term\n",
    "        noNew = False\n",
    "        old_list_of_page_links = []\n",
    "        while noNew == False:\n",
    "        # Setting the required variables.\n",
    "            site_dict[\"PAGE\"] = str(page*site_dict[\"PAGE_ITERATOR\"])\n",
    "\n",
    "            # Loading the page\n",
    "            pattern = re.compile(\"|\".join(site_dict[\"replacements\"]))\n",
    "            site_search = pattern.sub(lambda m: site_dict[re.escape(m.group(0))],site_dict[\"site\"])\n",
    "            req = requests.get(site_search)\n",
    "            \n",
    "            # Collecting a list of pages to scrape and saving their job titles and links\n",
    "            soup = BeautifulSoup(req.text, 'html.parser')\n",
    "            div = soup.find_all('div', {'class':'title'})\n",
    "            list_of_page_links = [site_dict[\"DOMAIN\"] + d.a['href'] for d in div]\n",
    "            \n",
    "            # Check whether there were any new\n",
    "            if list_of_page_links == old_list_of_page_links:\n",
    "                noNew = False\n",
    "\n",
    "            # Crawling through each page\n",
    "            for p in list_of_page_links:\n",
    "                req = requests.get(p)\n",
    "                soup = BeautifulSoup(req.text,'html.parser')\n",
    "                meta = \n",
    "                main_text = soup.find('div', {'id':'jobDescriptionText'})\n",
    "                print(main_text)\n",
    "#                 store = {\n",
    "#                     'date_accessed',\n",
    "\n",
    "#                     'site',\n",
    "#                     'search_term',\n",
    "#                     'job_title'  ,\n",
    "#                     'link' : p,\n",
    "#                     'full_text' : main_text\n",
    "                    \n",
    "#                 }\n",
    "                break\n",
    "            break\n",
    "            # Go to the next page of search results\n",
    "            page += 1\n",
    "            \n",
    "            # Setting up old list of page links\n",
    "            old_list_of_page_links = list_of_page_links"
   ]
  },
  {
   "cell_type": "code",
   "execution_count": null,
   "metadata": {},
   "outputs": [],
   "source": []
  }
 ],
 "metadata": {
  "kernelspec": {
   "display_name": "Python 3",
   "language": "python",
   "name": "python3"
  },
  "language_info": {
   "codemirror_mode": {
    "name": "ipython",
    "version": 3
   },
   "file_extension": ".py",
   "mimetype": "text/x-python",
   "name": "python",
   "nbconvert_exporter": "python",
   "pygments_lexer": "ipython3",
   "version": "3.7.1"
  }
 },
 "nbformat": 4,
 "nbformat_minor": 2
}
