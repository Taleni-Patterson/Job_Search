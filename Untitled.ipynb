{
 "cells": [
  {
   "cell_type": "code",
   "execution_count": 54,
   "metadata": {},
   "outputs": [],
   "source": [
    "import re\n",
    "import requests\n",
    "from bs4 import BeautifulSoup\n",
    "import pandas as pd\n",
    "import time"
   ]
  },
  {
   "cell_type": "markdown",
   "metadata": {},
   "source": [
    "## Indeed"
   ]
  },
  {
   "cell_type": "code",
   "execution_count": 24,
   "metadata": {},
   "outputs": [],
   "source": [
    "# Site dictionary\n",
    "site = \"http://au.indeed.com/jobs?q=TERM&l=Sydney+NSW&start=PAGE\"\n",
    "page_iterator =  10\n",
    "domain = \"http://au.indeed.com\"\n",
    "term = \"analyst\""
   ]
  },
  {
   "cell_type": "code",
   "execution_count": 56,
   "metadata": {},
   "outputs": [
    {
     "name": "stdout",
     "output_type": "stream",
     "text": [
      "Finished collecting the list of job descriptions.\n",
      "Finished Downloading: 1131 out of 1132: 1.000000 [#########                                                                                                                                                                                                                                                                                                                                                                                                                                                                                                                                                                                                                                                                                                                                                                                                                                                                                                                                                                                                                                                                                                                                                                  ]\r"
     ]
    }
   ],
   "source": [
    "page = 1\n",
    "old_list_of_page_links = []\n",
    "new_list_of_page_links = []\n",
    "failed = []\n",
    "while noNew == False:\n",
    "\n",
    "    # Collecting a list of pages to scrape and saving their job titles and links\n",
    "    result_number = page*page_iterator\n",
    "    req = requests.get(site.replace('PAGE', str(result_number)))\n",
    "    soup = BeautifulSoup(req.text, 'html.parser')\n",
    "    div = soup.find_all('div', {'class':'title'})\n",
    "    new_list_of_page_links = [domain + d.a['href'] for d in div]\n",
    "    \n",
    "    # Check whether there were any new\n",
    "    if page == 50:\n",
    "        noNew = True\n",
    "    else:\n",
    "        list_of_page_links.append([domain + d.a['href'] for d in div])\n",
    "        old_list_of_page_links = new_list_of_page_links\n",
    "    \n",
    "        # Go to the next page of search results\n",
    "        page += 1\n",
    "\n",
    "print('Finished collecting the list of job descriptions.')\n",
    "\n",
    "# Crawling through each page\n",
    "for i,p in enumerate(list_of_page_links):\n",
    "    try:\n",
    "        req = requests.get(p)\n",
    "        soup = BeautifulSoup(req.text,'html.parser')\n",
    "        main_text = soup.find('div', {'id':'jobDescriptionText'})\n",
    "        job_desc.append(main_text)\n",
    "        time.sleep(1)\n",
    "    except:\n",
    "        failed.append(p)\n",
    "    print('Finished Downloading: %i out of %i: %f [%s]'% (i, len(list_of_page_links), round(i/len(list_of_page_links)),'#'*int(i/len(list_of_page_links)*10)+' '*int(len(list_of_page_links)-i/len(list_of_page_links)*10)),end='\\r')"
   ]
  },
  {
   "cell_type": "code",
   "execution_count": 59,
   "metadata": {},
   "outputs": [
    {
     "data": {
      "text/plain": [
       "1204"
      ]
     },
     "execution_count": 59,
     "metadata": {},
     "output_type": "execute_result"
    }
   ],
   "source": [
    "len(job_desc)"
   ]
  },
  {
   "cell_type": "code",
   "execution_count": 1,
   "metadata": {},
   "outputs": [],
   "source": [
    "## Seek"
   ]
  },
  {
   "cell_type": "code",
   "execution_count": 2,
   "metadata": {},
   "outputs": [],
   "source": [
    "## Jora"
   ]
  },
  {
   "cell_type": "code",
   "execution_count": 3,
   "metadata": {},
   "outputs": [],
   "source": [
    "## Glassdoor"
   ]
  },
  {
   "cell_type": "code",
   "execution_count": null,
   "metadata": {},
   "outputs": [],
   "source": []
  },
  {
   "cell_type": "code",
   "execution_count": null,
   "metadata": {},
   "outputs": [],
   "source": []
  },
  {
   "cell_type": "code",
   "execution_count": null,
   "metadata": {},
   "outputs": [],
   "source": []
  },
  {
   "cell_type": "code",
   "execution_count": null,
   "metadata": {},
   "outputs": [],
   "source": []
  },
  {
   "cell_type": "code",
   "execution_count": null,
   "metadata": {},
   "outputs": [],
   "source": []
  },
  {
   "cell_type": "code",
   "execution_count": null,
   "metadata": {},
   "outputs": [],
   "source": []
  },
  {
   "cell_type": "code",
   "execution_count": null,
   "metadata": {},
   "outputs": [],
   "source": [
    "for s in d.keys():\n",
    "    if s in site:\n",
    "        page = 0\n",
    "        site_dict = d[s]\n",
    "        site_dict[\"TERM\"] = term\n",
    "        noNew = False\n",
    "        old_list_of_page_links = []\n",
    "        job_desc  = []\n",
    "        \n",
    "        while noNew == False:\n",
    "        # Setting the required variables.\n",
    "            site_dict[\"PAGE\"] = str(page*site_dict[\"PAGE_ITERATOR\"])\n",
    "\n",
    "            # Loading the page\n",
    "            pattern = re.compile(\"|\".join(site_dict[\"replacements\"]))\n",
    "            site_search = pattern.sub(lambda m: site_dict[re.escape(m.group(0))],site_dict[\"site\"])\n",
    "            req = requests.get(site_search)\n",
    "            \n",
    "            # Collecting a list of pages to scrape and saving their job titles and links\n",
    "            soup = BeautifulSoup(req.text, 'html.parser')\n",
    "            div = soup.find_all('div', {'class':'title'})\n",
    "            list_of_page_links = [site_dict[\"DOMAIN\"] + d.a['href'] for d in div]\n",
    "            \n",
    "            # Check whether there were any new\n",
    "            if list_of_page_links == old_list_of_page_links:\n",
    "                noNew = True\n",
    "\n",
    "            # Crawling through each page\n",
    "            for p in list_of_page_links:\n",
    "                req = requests.get(p)\n",
    "                soup = BeautifulSoup(req.text,'html.parser')\n",
    "                main_text = soup.find('div', {'id':'jobDescriptionText'})\n",
    "                job_desc.append(main_text)\n",
    "\n",
    "            # Go to the next page of search results\n",
    "            page += 1\n",
    "            \n",
    "            # Setting up old list of page links\n",
    "            old_list_of_page_links = list_of_page_links"
   ]
  }
 ],
 "metadata": {
  "kernelspec": {
   "display_name": "Python 3",
   "language": "python",
   "name": "python3"
  },
  "language_info": {
   "codemirror_mode": {
    "name": "ipython",
    "version": 3
   },
   "file_extension": ".py",
   "mimetype": "text/x-python",
   "name": "python",
   "nbconvert_exporter": "python",
   "pygments_lexer": "ipython3",
   "version": "3.7.1"
  }
 },
 "nbformat": 4,
 "nbformat_minor": 2
}
